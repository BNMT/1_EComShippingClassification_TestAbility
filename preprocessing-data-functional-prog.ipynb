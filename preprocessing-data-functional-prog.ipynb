{
 "cells": [
  {
   "cell_type": "markdown",
   "metadata": {},
   "source": [
    "# 1. Chuẩn bị dữ liệu"
   ]
  },
  {
   "cell_type": "code",
   "execution_count": 1,
   "metadata": {},
   "outputs": [],
   "source": [
    "import pandas as pd\n",
    "import numpy as np\n",
    "import matplotlib.pyplot as plt\n",
    "import tkinter as tk\n",
    "\n",
    "from sklearn.model_selection import train_test_split\n",
    "from sklearn.svm import SVC\n",
    "from sklearn.metrics import accuracy_score, classification_report\n",
    "from sklearn.preprocessing import OneHotEncoder\n",
    "from sklearn.svm import OneClassSVM\n",
    "from sklearn.impute import KNNImputer"
   ]
  },
  {
   "cell_type": "markdown",
   "metadata": {},
   "source": [
    "Mô tả các features:\n",
    "\n",
    "ID: Mã số định danh của khách hàng.\\\n",
    "Warehouse block: Kho chứa hàng của công ty vận chuyển, được chia theo kho A, B, C, D, F.\\\n",
    "Mode of shipment: Cách thức chuyển phát Ship, Flight and Road.\\\n",
    "Customer care calls: Số lượng cuộc gọi hối giao hàng.\\\n",
    "Customer rating: Thang đánh giá bởi khách hàng, 1 (rất không hài lòng) - 5 (rất hài lòng).\\\n",
    "Cost of the product: Giá (đơn vị tính: USD).\\\n",
    "Prior purchases: Số lần khách hàng đã nhờ vận chuyển trước đây.\\\n",
    "Product importance: Mức độ quan trọng của hàng hóa low, medium, high.\\\n",
    "Gender: Giới tính (M/F).\\\n",
    "Discount offered: Số tiền giảm giá cho hàng hóa.\\\n",
    "Weight in gms: Số kí của hàng hóa (đơn vị tính: gram).\\\n",
    "Reached on time (target): 0-giao đúng hẹn, 1-giao trễ hẹn."
   ]
  },
  {
   "cell_type": "code",
   "execution_count": null,
   "metadata": {},
   "outputs": [],
   "source": [
    "df = pd.read_csv(\"C:/Users/VivoBook/Downloads/ecom_ship.csv\")\n",
    "pd.set_option('display.max_columns', None)\n",
    "df.head()\n"
   ]
  },
  {
   "cell_type": "code",
   "execution_count": null,
   "metadata": {},
   "outputs": [],
   "source": [
    "# kích thước dataset\n",
    "print('Before checking duplicated data:', df.shape)\n",
    "\n",
    "df = df.drop_duplicates(keep='last')\n",
    "print('After checking duplicated data:', df.shape)\n"
   ]
  },
  {
   "cell_type": "code",
   "execution_count": null,
   "metadata": {},
   "outputs": [],
   "source": [
    "# kiểm tra missing value\n",
    "df.info()\n"
   ]
  },
  {
   "cell_type": "code",
   "execution_count": null,
   "metadata": {},
   "outputs": [],
   "source": [
    "# xóa cột không cần thiết\n",
    "del df['ID']\n",
    "\n",
    "# ép kiểu biến target về object\n",
    "df[['Reached.on.Time_Y.N', 'Customer_rating']] = df[['Reached.on.Time_Y.N', 'Customer_rating']].astype('object')\n",
    "\n",
    "# chuyển đổi đơn vị tính (g -> kg)\n",
    "df['Weight_in_kg'] = df['Weight_in_gms'].apply(lambda x: x / 1000)\n",
    "del df['Weight_in_gms']\n",
    "df.insert(9, 'Weight_in_kg', df.pop('Weight_in_kg'))\n",
    "\n",
    "df.head(5)"
   ]
  },
  {
   "cell_type": "markdown",
   "metadata": {},
   "source": [
    "# 2. Tiền xử lí biến định lượng"
   ]
  },
  {
   "cell_type": "code",
   "execution_count": null,
   "metadata": {},
   "outputs": [],
   "source": [
    "# thống kế mô tả cho biến định lượng\n",
    "df.describe(include=['int64', 'float64'])"
   ]
  },
  {
   "cell_type": "code",
   "execution_count": null,
   "metadata": {},
   "outputs": [],
   "source": [
    "df_quatitative = df[df.describe(include=['int64', 'float64']).columns]\n",
    "df_quatitative.head(3)"
   ]
  },
  {
   "cell_type": "code",
   "execution_count": null,
   "metadata": {},
   "outputs": [],
   "source": [
    "# kiểm tra outlier cho biến định lượng\n",
    "def draw_box_plot(dataset, col_name):\n",
    "    fig = plt.figure(figsize =(5, 3))\n",
    "    plt.boxplot(dataset[col_name], vert=False)\n",
    "    plt.title(f'Box plot for {col_name}', color='b')\n",
    "    plt.show()\n",
    "\n",
    "\n",
    "def find_outlier(dataset, col_name):\n",
    "    minimum = dataset[col_name].min()\n",
    "    maximum = dataset[col_name].max()\n",
    "    median = dataset[col_name].median()\n",
    "    \n",
    "    q3, q1 = np.percentile(dataset[col_name], [75, 25])\n",
    "    iqr = q3 - q1\n",
    "    upperlimit = q3 + iqr * 1.5\n",
    "    lowerlimit = q1 - iqr * 1.5   \n",
    "    print(pd.DataFrame([[minimum, maximum], [lowerlimit, upperlimit]], index=['Min/Max value', 'Lower/Upper limit']))\n",
    "\n",
    "    if minimum >= lowerlimit and maximum <= upperlimit:\n",
    "        return f\"Attribute {col_name} doesn't need to eliminate outliers.\"\n",
    "    else:\n",
    "        #count_row = ((dataset[col_name] < lowerlimit) | (dataset[col_name] > upperlimit)).sum()\n",
    "        #dataset[col_name] = dataset[col_name].apply(lambda x: x if (x <= upperlimit and x >= lowerlimit) else median)\n",
    "\n",
    "        count_row = 0\n",
    "        for idx, row in dataset.iterrows():\n",
    "            if row[col_name] > upperlimit or row[col_name] < lowerlimit:\n",
    "                dataset.at[idx, col_name] = median\n",
    "                count_row += 1\n",
    "\n",
    "        draw_box_plot(dataset, col_name)\n",
    "        return f'Attribute {col_name} was eliminated outliers!\\n->{count_row} data points were changed by median.'\n",
    "\n",
    "\n",
    "for col in df_quatitative.columns:\n",
    "    print(draw_box_plot(df_quatitative, col))\n",
    "    print(find_outlier(df_quatitative, col)) \n",
    "    print('\\n______________________________________________________________________\\n')\n"
   ]
  },
  {
   "cell_type": "markdown",
   "metadata": {},
   "source": [
    "# 3. Tiền xử lí biến định tính"
   ]
  },
  {
   "cell_type": "code",
   "execution_count": null,
   "metadata": {},
   "outputs": [],
   "source": [
    "# thống kế mô tả cho biến định tính\n",
    "df.describe(include='object')\n"
   ]
  },
  {
   "cell_type": "code",
   "execution_count": null,
   "metadata": {},
   "outputs": [],
   "source": [
    "df_qualitative = df[df.describe(include=['object']).columns]\n",
    "df_qualitative.head(3)\n"
   ]
  },
  {
   "cell_type": "code",
   "execution_count": null,
   "metadata": {},
   "outputs": [],
   "source": [
    "def draw_histogram(dataset, col_name, ax):\n",
    "    ax.hist(dataset[col_name])\n",
    "    ax.set_title(f'Histogram for {col_name}', color='r')\n",
    "    ax.set_xlabel('Value')\n",
    "    ax.set_ylabel('Frequency')\n",
    "\n",
    "fig, axes = plt.subplots(3, 2, figsize=(12, 10)) # Tạo ma trận 3 hàng và 2 cột\n",
    "axes = axes.flatten()                            # Làm phẳng mảng axes nếu nó có nhiều hàng và cột\n",
    "\n",
    "# Duyệt qua từng cột và vẽ biểu đồ\n",
    "for i, col in enumerate(df_qualitative.columns):\n",
    "    draw_histogram(df_qualitative, col, axes[i])\n",
    "\n",
    "plt.tight_layout()  # Điều chỉnh các biểu đồ sao cho không bị chồng lên nhau\n",
    "plt.show()\n"
   ]
  },
  {
   "cell_type": "code",
   "execution_count": null,
   "metadata": {},
   "outputs": [],
   "source": [
    "# Bước 1: Chuyển đổi các biến định tính thành dạng số (One-Hot Encoding)\n",
    "encoder = OneHotEncoder(drop='first')  # 'drop' để tránh đa cộng tuyến (collinearity)\n",
    "df_encoded = encoder.fit_transform(df_qualitative).toarray()\n",
    "df_encoded\n",
    "\n",
    "# Bước 2: Sử dụng OCSVM để phát hiện outliers\n",
    "ocsvm = OneClassSVM(nu=0.1, kernel='rbf', gamma='scale')  # nu: tỷ lệ outliers dự đoán\n",
    "ocsvm.fit(df_encoded)\n",
    "\n",
    "# Dự đoán: -1 là outlier, 1 là normal\n",
    "predictions = ocsvm.predict(df_encoded)\n",
    "outlier_indexes = df.index[predictions == -1].tolist()\n",
    "print(\"Predictions (1 = Normal, -1 = Outlier):\", predictions)\n",
    "\n",
    "# Chỉ thể hiện các outliers\n",
    "outliers = df_qualitative[predictions == -1]\n",
    "outliers.shape\n"
   ]
  },
  {
   "cell_type": "code",
   "execution_count": null,
   "metadata": {},
   "outputs": [],
   "source": [
    "df = pd.concat([df_quatitative, df_qualitative], axis=1)\n",
    "df.drop(index=outlier_indexes, inplace=True)\n",
    "df.reset_index(inplace=True, drop=True)\n",
    "df.shape"
   ]
  },
  {
   "cell_type": "markdown",
   "metadata": {},
   "source": [
    "# 4. Dự đoán phân lớp"
   ]
  },
  {
   "cell_type": "code",
   "execution_count": null,
   "metadata": {},
   "outputs": [],
   "source": [
    "df.info()"
   ]
  },
  {
   "cell_type": "code",
   "execution_count": 15,
   "metadata": {},
   "outputs": [],
   "source": [
    "# 1. Tìm các cột có kiểu dữ liệu 'object' (định dạng chuỗi/định tính)\n",
    "object_columns = df.select_dtypes(include=['object']).columns\n",
    "\n",
    "# 2. Áp dụng One-Hot Encoding cho các cột định tính\n",
    "encoder = OneHotEncoder(sparse_output=False)  # Đảm bảo không trả về dạng ma trận sparse\n",
    "encoded_data = encoder.fit_transform(df[object_columns])\n",
    "\n",
    "# 3. Chuyển kết quả One-Hot Encoding thành DataFrame\n",
    "encoded_df = pd.DataFrame(encoded_data, columns=encoder.get_feature_names_out(object_columns))\n",
    "\n",
    "# 4. Kết hợp DataFrame đã mã hóa vào DataFrame ban đầu theo chiều ngang\n",
    "df_encoded = df.drop(columns=object_columns)              # Xóa các cột object ban đầu\n",
    "df_encoded = pd.concat([df_encoded, encoded_df], axis=1)  # Kết hợp các cột đã mã hóa vào DataFrame ban đầu theo chiều ngang\n"
   ]
  },
  {
   "cell_type": "code",
   "execution_count": 16,
   "metadata": {},
   "outputs": [],
   "source": [
    "# 5. Chia dữ liệu thành tập huấn luyện và kiểm tra\n",
    "X = df_encoded.iloc[:, :-1]\n",
    "y = df_encoded.iloc[:, -1]  \n",
    "\n",
    "X_train, X_test, y_train, y_test = train_test_split(X, y, test_size=0.2, random_state=42)\n"
   ]
  },
  {
   "cell_type": "code",
   "execution_count": null,
   "metadata": {},
   "outputs": [],
   "source": [
    "# 6. Khởi tạo mô hình SVM (Support Vector Machine)\n",
    "svm_model = SVC(kernel='poly')  # kernel = {rbf, poly, sigmoid, linear}\n",
    "\n",
    "svm_model.fit(X_train, y_train)\n",
    "y_pred = svm_model.predict(X_test)\n",
    "\n",
    "accuracy = accuracy_score(y_test, y_pred)\n",
    "print(f'Accuracy: {accuracy:.4f}')\n",
    "\n",
    "print(\"\\nClassification Report:\")\n",
    "print(classification_report(y_test, y_pred))"
   ]
  },
  {
   "cell_type": "code",
   "execution_count": null,
   "metadata": {},
   "outputs": [],
   "source": []
  }
 ],
 "metadata": {
  "kernelspec": {
   "display_name": "Python 3",
   "language": "python",
   "name": "python3"
  },
  "language_info": {
   "codemirror_mode": {
    "name": "ipython",
    "version": 3
   },
   "file_extension": ".py",
   "mimetype": "text/x-python",
   "name": "python",
   "nbconvert_exporter": "python",
   "pygments_lexer": "ipython3",
   "version": "3.12.0"
  }
 },
 "nbformat": 4,
 "nbformat_minor": 2
}
