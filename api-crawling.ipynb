{
 "cells": [
  {
   "cell_type": "code",
   "execution_count": 1,
   "id": "a1b62f1a",
   "metadata": {},
   "outputs": [],
   "source": [
    "# Cài đặt thư viện cần thiết trong quá trình Khai phá bộ dữ liệu\n",
    "import opendatasets          as od\n",
    "import os\n",
    "import pandas                as pd\n"
   ]
  },
  {
   "cell_type": "code",
   "execution_count": 2,
   "id": "c04e289e",
   "metadata": {
    "scrolled": true
   },
   "outputs": [
    {
     "name": "stdout",
     "output_type": "stream",
     "text": [
      "Requirement already satisfied: opendatasets in c:\\users\\truc\\anaconda3\\lib\\site-packages (0.1.22)\n",
      "Requirement already satisfied: tqdm in c:\\users\\truc\\anaconda3\\lib\\site-packages (from opendatasets) (4.64.1)\n",
      "Requirement already satisfied: click in c:\\users\\truc\\anaconda3\\lib\\site-packages (from opendatasets) (8.0.4)\n",
      "Requirement already satisfied: kaggle in c:\\users\\truc\\anaconda3\\lib\\site-packages (from opendatasets) (1.5.13)\n",
      "Requirement already satisfied: colorama in c:\\users\\truc\\anaconda3\\lib\\site-packages (from click->opendatasets) (0.4.6)\n",
      "Requirement already satisfied: urllib3 in c:\\users\\truc\\anaconda3\\lib\\site-packages (from kaggle->opendatasets) (1.26.14)\n",
      "Requirement already satisfied: requests in c:\\users\\truc\\anaconda3\\lib\\site-packages (from kaggle->opendatasets) (2.28.1)\n",
      "Requirement already satisfied: certifi in c:\\users\\truc\\anaconda3\\lib\\site-packages (from kaggle->opendatasets) (2023.5.7)\n",
      "Requirement already satisfied: python-slugify in c:\\users\\truc\\anaconda3\\lib\\site-packages (from kaggle->opendatasets) (5.0.2)\n",
      "Requirement already satisfied: python-dateutil in c:\\users\\truc\\anaconda3\\lib\\site-packages (from kaggle->opendatasets) (2.8.2)\n",
      "Requirement already satisfied: six>=1.10 in c:\\users\\truc\\anaconda3\\lib\\site-packages (from kaggle->opendatasets) (1.16.0)\n",
      "Requirement already satisfied: text-unidecode>=1.3 in c:\\users\\truc\\anaconda3\\lib\\site-packages (from python-slugify->kaggle->opendatasets) (1.3)\n",
      "Requirement already satisfied: charset-normalizer<3,>=2 in c:\\users\\truc\\anaconda3\\lib\\site-packages (from requests->kaggle->opendatasets) (2.0.4)\n",
      "Requirement already satisfied: idna<4,>=2.5 in c:\\users\\truc\\anaconda3\\lib\\site-packages (from requests->kaggle->opendatasets) (3.4)\n"
     ]
    }
   ],
   "source": [
    "# Cài đặt thư viện opendatasets\n",
    "!pip install opendatasets\n"
   ]
  },
  {
   "cell_type": "code",
   "execution_count": 3,
   "id": "d6a8e20a",
   "metadata": {},
   "outputs": [],
   "source": [
    "# Link của dataset trên Kaggle\n",
    "dataset = 'https://www.kaggle.com/datasets/prachi13/customer-analytics'\n"
   ]
  },
  {
   "cell_type": "code",
   "execution_count": 4,
   "id": "aa2298db",
   "metadata": {},
   "outputs": [
    {
     "name": "stdout",
     "output_type": "stream",
     "text": [
      "Skipping, found downloaded files in \".\\customer-analytics\" (use force=True to force download)\n"
     ]
    }
   ],
   "source": [
    "# Tải xuống dataset bằng Kaggle API và nhập 'username' và 'key' mà Kaggle đã cung cấp\n",
    "od.download(dataset)\n"
   ]
  },
  {
   "cell_type": "code",
   "execution_count": 5,
   "id": "4ebbc6c2",
   "metadata": {},
   "outputs": [],
   "source": [
    "# Địa chỉ thư mục mà bộ dữ liệu đã được tải về máy\n",
    "data_dir = '.\\customer-analytics'\n"
   ]
  },
  {
   "cell_type": "code",
   "execution_count": 6,
   "id": "29e2deac",
   "metadata": {},
   "outputs": [
    {
     "data": {
      "text/plain": [
       "['.ipynb_checkpoints']"
      ]
     },
     "execution_count": 6,
     "metadata": {},
     "output_type": "execute_result"
    }
   ],
   "source": [
    "# Trong thư mục data_dir sẽ tìm thấy file muốn trích xuất\n",
    "os.listdir(data_dir)\n"
   ]
  },
  {
   "cell_type": "code",
   "execution_count": null,
   "id": "60d30f4d",
   "metadata": {},
   "outputs": [],
   "source": [
    "# Đọc file bằng thư viện pandas\n",
    "dt = pd.read_csv('Train.csv')\n",
    "dt"
   ]
  }
 ],
 "metadata": {
  "kernelspec": {
   "display_name": "Python 3 (ipykernel)",
   "language": "python",
   "name": "python3"
  },
  "language_info": {
   "codemirror_mode": {
    "name": "ipython",
    "version": 3
   },
   "file_extension": ".py",
   "mimetype": "text/x-python",
   "name": "python",
   "nbconvert_exporter": "python",
   "pygments_lexer": "ipython3",
   "version": "3.10.9"
  }
 },
 "nbformat": 4,
 "nbformat_minor": 5
}
